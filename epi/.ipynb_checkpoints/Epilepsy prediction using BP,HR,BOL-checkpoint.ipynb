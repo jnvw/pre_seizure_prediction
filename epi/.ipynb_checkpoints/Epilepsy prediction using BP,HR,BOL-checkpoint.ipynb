{
 "cells": [
  {
   "cell_type": "code",
   "execution_count": null,
   "id": "080e0b7e",
   "metadata": {},
   "outputs": [],
   "source": []
  },
  {
   "cell_type": "code",
   "execution_count": 1,
   "id": "efae5d34-f956-4aff-b25c-8bee26fa0e28",
   "metadata": {},
   "outputs": [],
   "source": [
    "import pandas as pd"
   ]
  },
  {
   "cell_type": "code",
   "execution_count": 2,
   "id": "e031ebb5-9e09-41a8-b010-697799811065",
   "metadata": {},
   "outputs": [],
   "source": [
    "import seaborn as sns"
   ]
  },
  {
   "cell_type": "code",
   "execution_count": 3,
   "id": "5d9324f3-2f20-4c32-b375-ca41a95024d3",
   "metadata": {},
   "outputs": [],
   "source": [
    "data = pd.read_csv('epilepsy_prediction_dataset.xls')"
   ]
  },
  {
   "cell_type": "code",
   "execution_count": 4,
   "id": "5ca0168b",
   "metadata": {},
   "outputs": [],
   "source": [
    "data = data.drop(columns=['seizure_history'])"
   ]
  },
  {
   "cell_type": "code",
   "execution_count": null,
   "id": "500ce950",
   "metadata": {},
   "outputs": [],
   "source": []
  },
  {
   "cell_type": "code",
   "execution_count": null,
   "id": "a18051de",
   "metadata": {},
   "outputs": [],
   "source": []
  },
  {
   "cell_type": "code",
   "execution_count": 5,
   "id": "3e29ad00-5c95-4013-8bd3-5d9fccab6fcd",
   "metadata": {},
   "outputs": [
    {
     "data": {
      "text/html": [
       "<div>\n",
       "<style scoped>\n",
       "    .dataframe tbody tr th:only-of-type {\n",
       "        vertical-align: middle;\n",
       "    }\n",
       "\n",
       "    .dataframe tbody tr th {\n",
       "        vertical-align: top;\n",
       "    }\n",
       "\n",
       "    .dataframe thead th {\n",
       "        text-align: right;\n",
       "    }\n",
       "</style>\n",
       "<table border=\"1\" class=\"dataframe\">\n",
       "  <thead>\n",
       "    <tr style=\"text-align: right;\">\n",
       "      <th></th>\n",
       "      <th>age</th>\n",
       "      <th>sex</th>\n",
       "      <th>heart_rate</th>\n",
       "      <th>systolic_bp</th>\n",
       "      <th>diastolic_bp</th>\n",
       "      <th>blood_oxygen_level</th>\n",
       "      <th>epileptic_seizure</th>\n",
       "    </tr>\n",
       "  </thead>\n",
       "  <tbody>\n",
       "    <tr>\n",
       "      <th>0</th>\n",
       "      <td>52</td>\n",
       "      <td>0</td>\n",
       "      <td>69.019028</td>\n",
       "      <td>162.589359</td>\n",
       "      <td>96.985086</td>\n",
       "      <td>98.861587</td>\n",
       "      <td>1</td>\n",
       "    </tr>\n",
       "    <tr>\n",
       "      <th>1</th>\n",
       "      <td>15</td>\n",
       "      <td>1</td>\n",
       "      <td>101.706999</td>\n",
       "      <td>90.362215</td>\n",
       "      <td>82.749874</td>\n",
       "      <td>88.030146</td>\n",
       "      <td>1</td>\n",
       "    </tr>\n",
       "    <tr>\n",
       "      <th>2</th>\n",
       "      <td>72</td>\n",
       "      <td>0</td>\n",
       "      <td>133.770887</td>\n",
       "      <td>107.764710</td>\n",
       "      <td>90.061888</td>\n",
       "      <td>97.691547</td>\n",
       "      <td>1</td>\n",
       "    </tr>\n",
       "    <tr>\n",
       "      <th>3</th>\n",
       "      <td>61</td>\n",
       "      <td>0</td>\n",
       "      <td>160.502318</td>\n",
       "      <td>134.656734</td>\n",
       "      <td>91.690729</td>\n",
       "      <td>89.650276</td>\n",
       "      <td>1</td>\n",
       "    </tr>\n",
       "    <tr>\n",
       "      <th>4</th>\n",
       "      <td>21</td>\n",
       "      <td>0</td>\n",
       "      <td>82.027589</td>\n",
       "      <td>153.477815</td>\n",
       "      <td>106.262766</td>\n",
       "      <td>96.015991</td>\n",
       "      <td>0</td>\n",
       "    </tr>\n",
       "  </tbody>\n",
       "</table>\n",
       "</div>"
      ],
      "text/plain": [
       "   age  sex  heart_rate  systolic_bp  diastolic_bp  blood_oxygen_level  \\\n",
       "0   52    0   69.019028   162.589359     96.985086           98.861587   \n",
       "1   15    1  101.706999    90.362215     82.749874           88.030146   \n",
       "2   72    0  133.770887   107.764710     90.061888           97.691547   \n",
       "3   61    0  160.502318   134.656734     91.690729           89.650276   \n",
       "4   21    0   82.027589   153.477815    106.262766           96.015991   \n",
       "\n",
       "   epileptic_seizure  \n",
       "0                  1  \n",
       "1                  1  \n",
       "2                  1  \n",
       "3                  1  \n",
       "4                  0  "
      ]
     },
     "execution_count": 5,
     "metadata": {},
     "output_type": "execute_result"
    }
   ],
   "source": [
    "data.head()"
   ]
  },
  {
   "cell_type": "code",
   "execution_count": null,
   "id": "06888c0e",
   "metadata": {},
   "outputs": [],
   "source": []
  },
  {
   "cell_type": "code",
   "execution_count": null,
   "id": "fcbab2d2",
   "metadata": {},
   "outputs": [],
   "source": []
  },
  {
   "cell_type": "code",
   "execution_count": null,
   "id": "6699df4f",
   "metadata": {},
   "outputs": [],
   "source": []
  },
  {
   "cell_type": "code",
   "execution_count": 6,
   "id": "8dd4c104-4625-444d-b617-1d2fa574b2cc",
   "metadata": {},
   "outputs": [
    {
     "name": "stdout",
     "output_type": "stream",
     "text": [
      "<class 'pandas.core.frame.DataFrame'>\n",
      "RangeIndex: 10000 entries, 0 to 9999\n",
      "Data columns (total 7 columns):\n",
      " #   Column              Non-Null Count  Dtype  \n",
      "---  ------              --------------  -----  \n",
      " 0   age                 10000 non-null  int64  \n",
      " 1   sex                 10000 non-null  int64  \n",
      " 2   heart_rate          10000 non-null  float64\n",
      " 3   systolic_bp         10000 non-null  float64\n",
      " 4   diastolic_bp        10000 non-null  float64\n",
      " 5   blood_oxygen_level  10000 non-null  float64\n",
      " 6   epileptic_seizure   10000 non-null  int64  \n",
      "dtypes: float64(4), int64(3)\n",
      "memory usage: 547.0 KB\n"
     ]
    }
   ],
   "source": [
    "data.info()"
   ]
  },
  {
   "cell_type": "code",
   "execution_count": 7,
   "id": "d124b82a-c823-4bf9-abc2-11bee4d9a833",
   "metadata": {},
   "outputs": [
    {
     "name": "stdout",
     "output_type": "stream",
     "text": [
      "Number of Rows 10000\n",
      "Number of Columns 7\n"
     ]
    }
   ],
   "source": [
    "print(\"Number of Rows\",data.shape[0])\n",
    "print(\"Number of Columns\",data.shape[1])"
   ]
  },
  {
   "cell_type": "code",
   "execution_count": null,
   "id": "1d96ddd6",
   "metadata": {},
   "outputs": [],
   "source": []
  },
  {
   "cell_type": "code",
   "execution_count": 8,
   "id": "12b30700-cb5e-47d0-a7cd-fc453302e40a",
   "metadata": {},
   "outputs": [
    {
     "data": {
      "text/plain": [
       "age                   0\n",
       "sex                   0\n",
       "heart_rate            0\n",
       "systolic_bp           0\n",
       "diastolic_bp          0\n",
       "blood_oxygen_level    0\n",
       "epileptic_seizure     0\n",
       "dtype: int64"
      ]
     },
     "execution_count": 8,
     "metadata": {},
     "output_type": "execute_result"
    }
   ],
   "source": [
    "data.isnull().sum()"
   ]
  },
  {
   "cell_type": "code",
   "execution_count": null,
   "id": "1ec53b13",
   "metadata": {},
   "outputs": [],
   "source": []
  },
  {
   "cell_type": "code",
   "execution_count": 9,
   "id": "4a924b7e-8e9f-4d61-964b-6acc32902f61",
   "metadata": {},
   "outputs": [
    {
     "data": {
      "text/plain": [
       "Index(['age', 'sex', 'heart_rate', 'systolic_bp', 'diastolic_bp',\n",
       "       'blood_oxygen_level', 'epileptic_seizure'],\n",
       "      dtype='object')"
      ]
     },
     "execution_count": 9,
     "metadata": {},
     "output_type": "execute_result"
    }
   ],
   "source": [
    "data.columns"
   ]
  },
  {
   "cell_type": "code",
   "execution_count": null,
   "id": "6ba12a98",
   "metadata": {},
   "outputs": [],
   "source": []
  },
  {
   "cell_type": "code",
   "execution_count": 10,
   "id": "05d261e5-93c5-4342-9fb3-b807f19bd392",
   "metadata": {},
   "outputs": [],
   "source": [
    "readings = data.drop('epileptic_seizure',axis=1)"
   ]
  },
  {
   "cell_type": "code",
   "execution_count": null,
   "id": "e825e1ec",
   "metadata": {},
   "outputs": [],
   "source": []
  },
  {
   "cell_type": "code",
   "execution_count": 11,
   "id": "0d98f654-e171-40ef-a7ba-d595816402ae",
   "metadata": {},
   "outputs": [],
   "source": [
    "hasoccured = data['epileptic_seizure']"
   ]
  },
  {
   "cell_type": "code",
   "execution_count": null,
   "id": "e68d51c9",
   "metadata": {},
   "outputs": [],
   "source": []
  },
  {
   "cell_type": "code",
   "execution_count": 12,
   "id": "beabf7a5-affb-4b5f-8176-d12b9ec83cd3",
   "metadata": {},
   "outputs": [],
   "source": [
    "from sklearn.model_selection import train_test_split"
   ]
  },
  {
   "cell_type": "code",
   "execution_count": null,
   "id": "46e07345",
   "metadata": {},
   "outputs": [],
   "source": []
  },
  {
   "cell_type": "code",
   "execution_count": 13,
   "id": "679979ae-9cdf-407a-9edd-880159be2d90",
   "metadata": {},
   "outputs": [],
   "source": [
    "X_train,X_test,y_train,y_test=train_test_split(readings,hasoccured,test_size=0.20,random_state=42)"
   ]
  },
  {
   "cell_type": "code",
   "execution_count": null,
   "id": "4f583b50",
   "metadata": {},
   "outputs": [],
   "source": []
  },
  {
   "cell_type": "code",
   "execution_count": 14,
   "id": "0c1d8331-06c9-4a03-aafa-eed39d93b74b",
   "metadata": {},
   "outputs": [
    {
     "data": {
      "text/plain": [
       "9254    1\n",
       "1561    1\n",
       "1670    1\n",
       "6087    0\n",
       "6669    1\n",
       "       ..\n",
       "5734    0\n",
       "5191    0\n",
       "5390    1\n",
       "860     1\n",
       "7270    0\n",
       "Name: epileptic_seizure, Length: 8000, dtype: int64"
      ]
     },
     "execution_count": 14,
     "metadata": {},
     "output_type": "execute_result"
    }
   ],
   "source": [
    "y_train"
   ]
  },
  {
   "cell_type": "code",
   "execution_count": null,
   "id": "cf36d93f",
   "metadata": {},
   "outputs": [],
   "source": []
  },
  {
   "cell_type": "code",
   "execution_count": 15,
   "id": "c7a2a52e-ce5f-46f5-98c0-f1f87c305644",
   "metadata": {},
   "outputs": [],
   "source": [
    "from sklearn.preprocessing import StandardScaler"
   ]
  },
  {
   "cell_type": "code",
   "execution_count": null,
   "id": "75ddea9d",
   "metadata": {},
   "outputs": [],
   "source": []
  },
  {
   "cell_type": "code",
   "execution_count": 16,
   "id": "0b5831ad-ab0d-4947-a7fc-0567815bcc42",
   "metadata": {},
   "outputs": [],
   "source": [
    "sc = StandardScaler()"
   ]
  },
  {
   "cell_type": "code",
   "execution_count": null,
   "id": "578f8038",
   "metadata": {},
   "outputs": [],
   "source": []
  },
  {
   "cell_type": "code",
   "execution_count": 17,
   "id": "801a5b56-a245-4068-86e1-c6b6f797a775",
   "metadata": {},
   "outputs": [],
   "source": [
    "X_train=sc.fit_transform(X_train)\n",
    "X_test=sc.transform(X_test)"
   ]
  },
  {
   "cell_type": "code",
   "execution_count": null,
   "id": "4d72ab32",
   "metadata": {},
   "outputs": [],
   "source": []
  },
  {
   "cell_type": "code",
   "execution_count": 18,
   "id": "57b4c4bb-9cdc-4901-a8e7-2a96fb9466f2",
   "metadata": {},
   "outputs": [
    {
     "data": {
      "text/plain": [
       "array([[-0.26691625,  1.01181985, -1.21329759,  0.23456532,  1.24971403,\n",
       "         1.11467384],\n",
       "       [ 1.67478712, -0.98831823,  0.20928   ,  0.27035135, -0.72610831,\n",
       "         0.41598805],\n",
       "       [ 0.43209696,  1.01181985,  1.67516503,  0.71718036,  0.55390483,\n",
       "        -1.28015623],\n",
       "       ...,\n",
       "       [-0.53875473, -0.98831823,  0.71784368,  0.58478628, -1.49951845,\n",
       "        -0.04209842],\n",
       "       [-0.03391185, -0.98831823, -0.82862532,  0.71483923, -0.3963468 ,\n",
       "         0.71829344],\n",
       "       [ 0.93693984, -0.98831823,  1.49171809, -1.49868925,  1.13139228,\n",
       "         1.13298563]])"
      ]
     },
     "execution_count": 18,
     "metadata": {},
     "output_type": "execute_result"
    }
   ],
   "source": [
    "X_train"
   ]
  },
  {
   "cell_type": "code",
   "execution_count": null,
   "id": "ea87fe00",
   "metadata": {},
   "outputs": [],
   "source": []
  },
  {
   "cell_type": "code",
   "execution_count": 19,
   "id": "81132e13-5784-4e80-a1dd-ffb101b2a3dc",
   "metadata": {},
   "outputs": [
    {
     "data": {
      "text/html": [
       "<div>\n",
       "<style scoped>\n",
       "    .dataframe tbody tr th:only-of-type {\n",
       "        vertical-align: middle;\n",
       "    }\n",
       "\n",
       "    .dataframe tbody tr th {\n",
       "        vertical-align: top;\n",
       "    }\n",
       "\n",
       "    .dataframe thead th {\n",
       "        text-align: right;\n",
       "    }\n",
       "</style>\n",
       "<table border=\"1\" class=\"dataframe\">\n",
       "  <thead>\n",
       "    <tr style=\"text-align: right;\">\n",
       "      <th></th>\n",
       "      <th>age</th>\n",
       "      <th>sex</th>\n",
       "      <th>heart_rate</th>\n",
       "      <th>systolic_bp</th>\n",
       "      <th>diastolic_bp</th>\n",
       "      <th>blood_oxygen_level</th>\n",
       "      <th>epileptic_seizure</th>\n",
       "    </tr>\n",
       "  </thead>\n",
       "  <tbody>\n",
       "    <tr>\n",
       "      <th>0</th>\n",
       "      <td>52</td>\n",
       "      <td>0</td>\n",
       "      <td>69.019028</td>\n",
       "      <td>162.589359</td>\n",
       "      <td>96.985086</td>\n",
       "      <td>98.861587</td>\n",
       "      <td>1</td>\n",
       "    </tr>\n",
       "    <tr>\n",
       "      <th>1</th>\n",
       "      <td>15</td>\n",
       "      <td>1</td>\n",
       "      <td>101.706999</td>\n",
       "      <td>90.362215</td>\n",
       "      <td>82.749874</td>\n",
       "      <td>88.030146</td>\n",
       "      <td>1</td>\n",
       "    </tr>\n",
       "    <tr>\n",
       "      <th>2</th>\n",
       "      <td>72</td>\n",
       "      <td>0</td>\n",
       "      <td>133.770887</td>\n",
       "      <td>107.764710</td>\n",
       "      <td>90.061888</td>\n",
       "      <td>97.691547</td>\n",
       "      <td>1</td>\n",
       "    </tr>\n",
       "    <tr>\n",
       "      <th>3</th>\n",
       "      <td>61</td>\n",
       "      <td>0</td>\n",
       "      <td>160.502318</td>\n",
       "      <td>134.656734</td>\n",
       "      <td>91.690729</td>\n",
       "      <td>89.650276</td>\n",
       "      <td>1</td>\n",
       "    </tr>\n",
       "    <tr>\n",
       "      <th>4</th>\n",
       "      <td>21</td>\n",
       "      <td>0</td>\n",
       "      <td>82.027589</td>\n",
       "      <td>153.477815</td>\n",
       "      <td>106.262766</td>\n",
       "      <td>96.015991</td>\n",
       "      <td>0</td>\n",
       "    </tr>\n",
       "  </tbody>\n",
       "</table>\n",
       "</div>"
      ],
      "text/plain": [
       "   age  sex  heart_rate  systolic_bp  diastolic_bp  blood_oxygen_level  \\\n",
       "0   52    0   69.019028   162.589359     96.985086           98.861587   \n",
       "1   15    1  101.706999    90.362215     82.749874           88.030146   \n",
       "2   72    0  133.770887   107.764710     90.061888           97.691547   \n",
       "3   61    0  160.502318   134.656734     91.690729           89.650276   \n",
       "4   21    0   82.027589   153.477815    106.262766           96.015991   \n",
       "\n",
       "   epileptic_seizure  \n",
       "0                  1  \n",
       "1                  1  \n",
       "2                  1  \n",
       "3                  1  \n",
       "4                  0  "
      ]
     },
     "execution_count": 19,
     "metadata": {},
     "output_type": "execute_result"
    }
   ],
   "source": [
    "data.head()"
   ]
  },
  {
   "cell_type": "code",
   "execution_count": null,
   "id": "ecca15ca",
   "metadata": {},
   "outputs": [],
   "source": []
  },
  {
   "cell_type": "code",
   "execution_count": 20,
   "id": "1589c9bc-b645-4b76-bd2a-1831dca6c59c",
   "metadata": {},
   "outputs": [],
   "source": [
    "from sklearn.linear_model import LinearRegression\n",
    "from sklearn.svm import SVR\n",
    "from sklearn.ensemble import RandomForestRegressor\n",
    "from sklearn.ensemble import GradientBoostingRegressor"
   ]
  },
  {
   "cell_type": "code",
   "execution_count": null,
   "id": "c91e2483",
   "metadata": {},
   "outputs": [],
   "source": []
  },
  {
   "cell_type": "code",
   "execution_count": 21,
   "id": "b3f6f094-b428-4a20-982d-23cdb7e1fa6e",
   "metadata": {},
   "outputs": [
    {
     "data": {
      "text/html": [
       "<style>#sk-container-id-1 {color: black;}#sk-container-id-1 pre{padding: 0;}#sk-container-id-1 div.sk-toggleable {background-color: white;}#sk-container-id-1 label.sk-toggleable__label {cursor: pointer;display: block;width: 100%;margin-bottom: 0;padding: 0.3em;box-sizing: border-box;text-align: center;}#sk-container-id-1 label.sk-toggleable__label-arrow:before {content: \"▸\";float: left;margin-right: 0.25em;color: #696969;}#sk-container-id-1 label.sk-toggleable__label-arrow:hover:before {color: black;}#sk-container-id-1 div.sk-estimator:hover label.sk-toggleable__label-arrow:before {color: black;}#sk-container-id-1 div.sk-toggleable__content {max-height: 0;max-width: 0;overflow: hidden;text-align: left;background-color: #f0f8ff;}#sk-container-id-1 div.sk-toggleable__content pre {margin: 0.2em;color: black;border-radius: 0.25em;background-color: #f0f8ff;}#sk-container-id-1 input.sk-toggleable__control:checked~div.sk-toggleable__content {max-height: 200px;max-width: 100%;overflow: auto;}#sk-container-id-1 input.sk-toggleable__control:checked~label.sk-toggleable__label-arrow:before {content: \"▾\";}#sk-container-id-1 div.sk-estimator input.sk-toggleable__control:checked~label.sk-toggleable__label {background-color: #d4ebff;}#sk-container-id-1 div.sk-label input.sk-toggleable__control:checked~label.sk-toggleable__label {background-color: #d4ebff;}#sk-container-id-1 input.sk-hidden--visually {border: 0;clip: rect(1px 1px 1px 1px);clip: rect(1px, 1px, 1px, 1px);height: 1px;margin: -1px;overflow: hidden;padding: 0;position: absolute;width: 1px;}#sk-container-id-1 div.sk-estimator {font-family: monospace;background-color: #f0f8ff;border: 1px dotted black;border-radius: 0.25em;box-sizing: border-box;margin-bottom: 0.5em;}#sk-container-id-1 div.sk-estimator:hover {background-color: #d4ebff;}#sk-container-id-1 div.sk-parallel-item::after {content: \"\";width: 100%;border-bottom: 1px solid gray;flex-grow: 1;}#sk-container-id-1 div.sk-label:hover label.sk-toggleable__label {background-color: #d4ebff;}#sk-container-id-1 div.sk-serial::before {content: \"\";position: absolute;border-left: 1px solid gray;box-sizing: border-box;top: 0;bottom: 0;left: 50%;z-index: 0;}#sk-container-id-1 div.sk-serial {display: flex;flex-direction: column;align-items: center;background-color: white;padding-right: 0.2em;padding-left: 0.2em;position: relative;}#sk-container-id-1 div.sk-item {position: relative;z-index: 1;}#sk-container-id-1 div.sk-parallel {display: flex;align-items: stretch;justify-content: center;background-color: white;position: relative;}#sk-container-id-1 div.sk-item::before, #sk-container-id-1 div.sk-parallel-item::before {content: \"\";position: absolute;border-left: 1px solid gray;box-sizing: border-box;top: 0;bottom: 0;left: 50%;z-index: -1;}#sk-container-id-1 div.sk-parallel-item {display: flex;flex-direction: column;z-index: 1;position: relative;background-color: white;}#sk-container-id-1 div.sk-parallel-item:first-child::after {align-self: flex-end;width: 50%;}#sk-container-id-1 div.sk-parallel-item:last-child::after {align-self: flex-start;width: 50%;}#sk-container-id-1 div.sk-parallel-item:only-child::after {width: 0;}#sk-container-id-1 div.sk-dashed-wrapped {border: 1px dashed gray;margin: 0 0.4em 0.5em 0.4em;box-sizing: border-box;padding-bottom: 0.4em;background-color: white;}#sk-container-id-1 div.sk-label label {font-family: monospace;font-weight: bold;display: inline-block;line-height: 1.2em;}#sk-container-id-1 div.sk-label-container {text-align: center;}#sk-container-id-1 div.sk-container {/* jupyter's `normalize.less` sets `[hidden] { display: none; }` but bootstrap.min.css set `[hidden] { display: none !important; }` so we also need the `!important` here to be able to override the default hidden behavior on the sphinx rendered scikit-learn.org. See: https://github.com/scikit-learn/scikit-learn/issues/21755 */display: inline-block !important;position: relative;}#sk-container-id-1 div.sk-text-repr-fallback {display: none;}</style><div id=\"sk-container-id-1\" class=\"sk-top-container\"><div class=\"sk-text-repr-fallback\"><pre>GradientBoostingRegressor()</pre><b>In a Jupyter environment, please rerun this cell to show the HTML representation or trust the notebook. <br />On GitHub, the HTML representation is unable to render, please try loading this page with nbviewer.org.</b></div><div class=\"sk-container\" hidden><div class=\"sk-item\"><div class=\"sk-estimator sk-toggleable\"><input class=\"sk-toggleable__control sk-hidden--visually\" id=\"sk-estimator-id-1\" type=\"checkbox\" checked><label for=\"sk-estimator-id-1\" class=\"sk-toggleable__label sk-toggleable__label-arrow\">GradientBoostingRegressor</label><div class=\"sk-toggleable__content\"><pre>GradientBoostingRegressor()</pre></div></div></div></div></div>"
      ],
      "text/plain": [
       "GradientBoostingRegressor()"
      ]
     },
     "execution_count": 21,
     "metadata": {},
     "output_type": "execute_result"
    }
   ],
   "source": [
    "lr =LinearRegression()\n",
    "lr.fit(X_train,y_train)\n",
    "\n",
    "svm = SVR()\n",
    "svm.fit(X_train,y_train)\n",
    "\n",
    "rf = RandomForestRegressor()\n",
    "rf.fit(X_train,y_train)\n",
    "\n",
    "gr = GradientBoostingRegressor()\n",
    "gr.fit(X_train,y_train)"
   ]
  },
  {
   "cell_type": "code",
   "execution_count": null,
   "id": "66ca3f1d",
   "metadata": {},
   "outputs": [],
   "source": []
  },
  {
   "cell_type": "code",
   "execution_count": 22,
   "id": "4963b575-b55a-4376-a8c6-6114dc4fb7ad",
   "metadata": {},
   "outputs": [],
   "source": [
    "y_pred1 = lr.predict(X_test)\n",
    "y_pred2 = svm.predict(X_test)\n",
    "y_pred3 = rf.predict(X_test)\n",
    "y_pred4 = gr.predict(X_test)"
   ]
  },
  {
   "cell_type": "code",
   "execution_count": null,
   "id": "cc5a983a",
   "metadata": {},
   "outputs": [],
   "source": []
  },
  {
   "cell_type": "code",
   "execution_count": null,
   "id": "b48491b9",
   "metadata": {},
   "outputs": [],
   "source": []
  },
  {
   "cell_type": "code",
   "execution_count": 23,
   "id": "8a5555e5-fcc2-4710-bda2-10d44a4b99be",
   "metadata": {},
   "outputs": [],
   "source": [
    "from sklearn import metrics"
   ]
  },
  {
   "cell_type": "code",
   "execution_count": null,
   "id": "399fdace",
   "metadata": {},
   "outputs": [],
   "source": []
  },
  {
   "cell_type": "code",
   "execution_count": 24,
   "id": "b57db788-524f-42a8-85ef-10b5cc06a7d7",
   "metadata": {},
   "outputs": [],
   "source": [
    "score1 = metrics.r2_score(y_test,y_pred1)\n",
    "score2 = metrics.r2_score(y_test,y_pred2)\n",
    "score3 = metrics.r2_score(y_test,y_pred3)\n",
    "score4 = metrics.r2_score(y_test,y_pred4)"
   ]
  },
  {
   "cell_type": "code",
   "execution_count": null,
   "id": "53b5dcf4",
   "metadata": {},
   "outputs": [],
   "source": []
  },
  {
   "cell_type": "code",
   "execution_count": 25,
   "id": "a43e9c07-5c7f-4815-8cf8-974e0dc27ee7",
   "metadata": {},
   "outputs": [
    {
     "name": "stdout",
     "output_type": "stream",
     "text": [
      "0.01285655702863131 -0.1810687580087904 -0.005655579045287684 0.03959900197677679\n"
     ]
    }
   ],
   "source": [
    "print(score1,score2,score3,score4)"
   ]
  },
  {
   "cell_type": "code",
   "execution_count": null,
   "id": "9d95d13c",
   "metadata": {},
   "outputs": [],
   "source": []
  },
  {
   "cell_type": "code",
   "execution_count": 26,
   "id": "a98d0d8e-8d7d-41f2-af1c-2652d24f5f36",
   "metadata": {},
   "outputs": [],
   "source": [
    "final_data = pd.DataFrame({'RegressionModels': ['Linear', 'SupportVector', 'DecisionTree', 'RandomForest'], 'R2_SCORE': [score1,score2,score3,score4]})"
   ]
  },
  {
   "cell_type": "code",
   "execution_count": null,
   "id": "e4f5d9a1",
   "metadata": {},
   "outputs": [],
   "source": []
  },
  {
   "cell_type": "code",
   "execution_count": 27,
   "id": "631779f4-5c21-4d1e-b455-778ae217b103",
   "metadata": {},
   "outputs": [
    {
     "data": {
      "text/html": [
       "<div>\n",
       "<style scoped>\n",
       "    .dataframe tbody tr th:only-of-type {\n",
       "        vertical-align: middle;\n",
       "    }\n",
       "\n",
       "    .dataframe tbody tr th {\n",
       "        vertical-align: top;\n",
       "    }\n",
       "\n",
       "    .dataframe thead th {\n",
       "        text-align: right;\n",
       "    }\n",
       "</style>\n",
       "<table border=\"1\" class=\"dataframe\">\n",
       "  <thead>\n",
       "    <tr style=\"text-align: right;\">\n",
       "      <th></th>\n",
       "      <th>RegressionModels</th>\n",
       "      <th>R2_SCORE</th>\n",
       "    </tr>\n",
       "  </thead>\n",
       "  <tbody>\n",
       "    <tr>\n",
       "      <th>0</th>\n",
       "      <td>Linear</td>\n",
       "      <td>0.012857</td>\n",
       "    </tr>\n",
       "    <tr>\n",
       "      <th>1</th>\n",
       "      <td>SupportVector</td>\n",
       "      <td>-0.181069</td>\n",
       "    </tr>\n",
       "    <tr>\n",
       "      <th>2</th>\n",
       "      <td>DecisionTree</td>\n",
       "      <td>-0.005656</td>\n",
       "    </tr>\n",
       "    <tr>\n",
       "      <th>3</th>\n",
       "      <td>RandomForest</td>\n",
       "      <td>0.039599</td>\n",
       "    </tr>\n",
       "  </tbody>\n",
       "</table>\n",
       "</div>"
      ],
      "text/plain": [
       "  RegressionModels  R2_SCORE\n",
       "0           Linear  0.012857\n",
       "1    SupportVector -0.181069\n",
       "2     DecisionTree -0.005656\n",
       "3     RandomForest  0.039599"
      ]
     },
     "execution_count": 27,
     "metadata": {},
     "output_type": "execute_result"
    }
   ],
   "source": [
    "final_data"
   ]
  },
  {
   "cell_type": "code",
   "execution_count": null,
   "id": "0950d43b",
   "metadata": {},
   "outputs": [],
   "source": []
  },
  {
   "cell_type": "code",
   "execution_count": 28,
   "id": "1b3bd298-edc3-498c-b7d2-0a6cb2534271",
   "metadata": {},
   "outputs": [],
   "source": [
    "import seaborn as sns"
   ]
  },
  {
   "cell_type": "code",
   "execution_count": 29,
   "id": "4f7041d6-1ae0-46c3-87ae-31323f5ebb59",
   "metadata": {},
   "outputs": [
    {
     "data": {
      "text/plain": [
       "<AxesSubplot: xlabel='RegressionModels', ylabel='R2_SCORE'>"
      ]
     },
     "execution_count": 29,
     "metadata": {},
     "output_type": "execute_result"
    },
    {
     "data": {
      "image/png": "[encoded data removed]",
      "text/plain": [
       "<Figure size 640x480 with 1 Axes>"
      ]
     },
     "metadata": {},
     "output_type": "display_data"
    }
   ],
   "source": [
    "sns.barplot(x='RegressionModels',y='R2_SCORE',data=final_data)"
   ]
  },
  {
   "cell_type": "code",
   "execution_count": null,
   "id": "9c064886",
   "metadata": {},
   "outputs": [],
   "source": []
  },
  {
   "cell_type": "code",
   "execution_count": 30,
   "id": "8a407884-2d44-42d6-899e-12fdcc6974f6",
   "metadata": {},
   "outputs": [],
   "source": [
    "import numpy as np"
   ]
  },
  {
   "cell_type": "code",
   "execution_count": 31,
   "id": "5e2a1a22-5147-4350-9b1a-6137164960e6",
   "metadata": {},
   "outputs": [],
   "source": [
    "y_train = [1 if value>0.85 else 0 for value in y_train]\n",
    "y_test = [1 if value>0.85 else 0 for value in y_test]\n",
    "\n",
    "y_train = np.array(y_train)\n",
    "y_test = np.array(y_test)"
   ]
  },
  {
   "cell_type": "code",
   "execution_count": null,
   "id": "4b86faaf",
   "metadata": {},
   "outputs": [],
   "source": []
  },
  {
   "cell_type": "code",
   "execution_count": 32,
   "id": "f4293471-5ec0-4672-af9d-8d8fb9d7914d",
   "metadata": {},
   "outputs": [
    {
     "data": {
      "text/plain": [
       "array([1, 1, 1, ..., 1, 1, 0])"
      ]
     },
     "execution_count": 32,
     "metadata": {},
     "output_type": "execute_result"
    }
   ],
   "source": [
    "y_train"
   ]
  },
  {
   "cell_type": "code",
   "execution_count": null,
   "id": "c2866489",
   "metadata": {},
   "outputs": [],
   "source": []
  },
  {
   "cell_type": "code",
   "execution_count": 33,
   "id": "cbcdb616-a844-4872-ac8b-f9d607fb5f3a",
   "metadata": {},
   "outputs": [
    {
     "name": "stdout",
     "output_type": "stream",
     "text": [
      "8000\n"
     ]
    }
   ],
   "source": [
    "print(len(y_train))"
   ]
  },
  {
   "cell_type": "code",
   "execution_count": null,
   "id": "b9ac85fb",
   "metadata": {},
   "outputs": [],
   "source": []
  },
  {
   "cell_type": "code",
   "execution_count": 34,
   "id": "49f78bba-8358-4fdb-aebf-82c4a5e72655",
   "metadata": {},
   "outputs": [
    {
     "name": "stdout",
     "output_type": "stream",
     "text": [
      "3837\n"
     ]
    }
   ],
   "source": [
    "print(np.count_nonzero(y_train))"
   ]
  },
  {
   "cell_type": "code",
   "execution_count": null,
   "id": "524d47bc",
   "metadata": {},
   "outputs": [],
   "source": []
  },
  {
   "cell_type": "code",
   "execution_count": 35,
   "id": "32b5fcad-254c-4c3e-9212-22a48058692c",
   "metadata": {},
   "outputs": [],
   "source": [
    "from sklearn.linear_model import LogisticRegression\n",
    "from sklearn import svm\n",
    "from sklearn.neighbors import KNeighborsClassifier\n",
    "from sklearn.ensemble import RandomForestClassifier\n",
    "from sklearn.ensemble import GradientBoostingClassifier\n",
    "from sklearn.metrics import accuracy_score"
   ]
  },
  {
   "cell_type": "code",
   "execution_count": null,
   "id": "5e6fa9c8",
   "metadata": {},
   "outputs": [],
   "source": []
  },
  {
   "cell_type": "code",
   "execution_count": 36,
   "id": "1829816c-6b6f-4308-9e7c-207ec529f964",
   "metadata": {},
   "outputs": [
    {
     "name": "stdout",
     "output_type": "stream",
     "text": [
      "0.5325\n"
     ]
    }
   ],
   "source": [
    "lr = LogisticRegression()\n",
    "lr.fit(X_train,y_train)\n",
    "y_pred1= lr.predict(X_test)\n",
    "print(accuracy_score(y_test,y_pred1))"
   ]
  },
  {
   "cell_type": "code",
   "execution_count": 37,
   "id": "c22e898c-16e3-4269-b65d-f1d8bf5f0f09",
   "metadata": {},
   "outputs": [
    {
     "name": "stdout",
     "output_type": "stream",
     "text": [
      "0.5475\n"
     ]
    }
   ],
   "source": [
    "svm = svm.SVC()\n",
    "svm.fit(X_train,y_train)\n",
    "y_pred2 = svm.predict(X_test)\n",
    "print(accuracy_score(y_test,y_pred2))"
   ]
  },
  {
   "cell_type": "code",
   "execution_count": 38,
   "id": "388d4906-eb86-4299-b7b4-b36640b3272d",
   "metadata": {},
   "outputs": [
    {
     "name": "stdout",
     "output_type": "stream",
     "text": [
      "0.5335\n"
     ]
    }
   ],
   "source": [
    "knn=KNeighborsClassifier()\n",
    "knn.fit(X_train,y_train)\n",
    "y_pred3 = knn.predict(X_test)\n",
    "print(accuracy_score(y_test,y_pred3))"
   ]
  },
  {
   "cell_type": "code",
   "execution_count": 39,
   "id": "4c12de10-6a25-415b-86ac-564ed2e45e1d",
   "metadata": {},
   "outputs": [
    {
     "name": "stdout",
     "output_type": "stream",
     "text": [
      "0.5195\n"
     ]
    }
   ],
   "source": [
    "rf = RandomForestClassifier()\n",
    "rf.fit(X_train,y_train)\n",
    "y_pred4 = rf.predict(X_test)\n",
    "print(accuracy_score(y_test,y_pred4))"
   ]
  },
  {
   "cell_type": "code",
   "execution_count": 40,
   "id": "d7f909fa-78dc-4a06-a339-dccd58c26cc5",
   "metadata": {},
   "outputs": [
    {
     "name": "stdout",
     "output_type": "stream",
     "text": [
      "0.52\n"
     ]
    }
   ],
   "source": [
    "gr = GradientBoostingClassifier()\n",
    "gr.fit(X_train,y_train)\n",
    "y_pred5 = gr.predict(X_test)\n",
    "print(accuracy_score(y_test,y_pred5))"
   ]
  },
  {
   "cell_type": "code",
   "execution_count": 41,
   "id": "24ea4ad6-7dab-4c00-b879-fa0a508b2b28",
   "metadata": {},
   "outputs": [],
   "source": [
    "final_data = pd.DataFrame({'ClassifierModels':['LogisticRegression','SupportVector','KNeighbors','RandomForest','GradientBoosting'],\n",
    "                           'ACC_SCORE':[accuracy_score(y_test,y_pred1),\n",
    "                                       accuracy_score(y_test,y_pred2),\n",
    "                                       accuracy_score(y_test,y_pred3),\n",
    "                                       accuracy_score(y_test,y_pred4),\n",
    "                                       accuracy_score(y_test,y_pred5)]})"
   ]
  },
  {
   "cell_type": "code",
   "execution_count": 42,
   "id": "17af0c57-3630-43e5-83ff-35fa64548ed2",
   "metadata": {},
   "outputs": [
    {
     "data": {
      "text/html": [
       "<div>\n",
       "<style scoped>\n",
       "    .dataframe tbody tr th:only-of-type {\n",
       "        vertical-align: middle;\n",
       "    }\n",
       "\n",
       "    .dataframe tbody tr th {\n",
       "        vertical-align: top;\n",
       "    }\n",
       "\n",
       "    .dataframe thead th {\n",
       "        text-align: right;\n",
       "    }\n",
       "</style>\n",
       "<table border=\"1\" class=\"dataframe\">\n",
       "  <thead>\n",
       "    <tr style=\"text-align: right;\">\n",
       "      <th></th>\n",
       "      <th>ClassifierModels</th>\n",
       "      <th>ACC_SCORE</th>\n",
       "    </tr>\n",
       "  </thead>\n",
       "  <tbody>\n",
       "    <tr>\n",
       "      <th>0</th>\n",
       "      <td>LogisticRegression</td>\n",
       "      <td>0.5325</td>\n",
       "    </tr>\n",
       "    <tr>\n",
       "      <th>1</th>\n",
       "      <td>SupportVector</td>\n",
       "      <td>0.5475</td>\n",
       "    </tr>\n",
       "    <tr>\n",
       "      <th>2</th>\n",
       "      <td>KNeighbors</td>\n",
       "      <td>0.5335</td>\n",
       "    </tr>\n",
       "    <tr>\n",
       "      <th>3</th>\n",
       "      <td>RandomForest</td>\n",
       "      <td>0.5195</td>\n",
       "    </tr>\n",
       "    <tr>\n",
       "      <th>4</th>\n",
       "      <td>GradientBoosting</td>\n",
       "      <td>0.5200</td>\n",
       "    </tr>\n",
       "  </tbody>\n",
       "</table>\n",
       "</div>"
      ],
      "text/plain": [
       "     ClassifierModels  ACC_SCORE\n",
       "0  LogisticRegression     0.5325\n",
       "1       SupportVector     0.5475\n",
       "2          KNeighbors     0.5335\n",
       "3        RandomForest     0.5195\n",
       "4    GradientBoosting     0.5200"
      ]
     },
     "execution_count": 42,
     "metadata": {},
     "output_type": "execute_result"
    }
   ],
   "source": [
    "final_data"
   ]
  },
  {
   "cell_type": "code",
   "execution_count": 43,
   "id": "36ba06b5",
   "metadata": {},
   "outputs": [],
   "source": [
    "import seaborn as sns"
   ]
  },
  {
   "cell_type": "code",
   "execution_count": 44,
   "id": "3a63b634",
   "metadata": {},
   "outputs": [
    {
     "data": {
      "text/plain": [
       "<AxesSubplot: xlabel='ClassifierModels', ylabel='ACC_SCORE'>"
      ]
     },
     "execution_count": 44,
     "metadata": {},
     "output_type": "execute_result"
    },
    {
     "data": {
      "image/png": "[encoded data removed]",
      "text/plain": [
       "<Figure size 640x480 with 1 Axes>"
      ]
     },
     "metadata": {},
     "output_type": "display_data"
    }
   ],
   "source": [
    "sns.barplot(x=final_data['ClassifierModels'],y=final_data['ACC_SCORE'])"
   ]
  },
  {
   "cell_type": "code",
   "execution_count": null,
   "id": "5b80777d",
   "metadata": {},
   "outputs": [],
   "source": []
  },
  {
   "cell_type": "code",
   "execution_count": 55,
   "id": "547b24a8",
   "metadata": {},
   "outputs": [
    {
     "name": "stdout",
     "output_type": "stream",
     "text": [
      "Ensemble Accuracy: 0.5285\n",
      "\n",
      "\n",
      "\n"
     ]
    }
   ],
   "source": [
    "from sklearn.ensemble import VotingClassifier, RandomForestClassifier, GradientBoostingClassifier\n",
    "from sklearn.linear_model import LogisticRegression\n",
    "from sklearn import svm\n",
    "from sklearn.neighbors import KNeighborsClassifier\n",
    "from sklearn.model_selection import train_test_split,cross_val_score\n",
    "from sklearn.preprocessing import StandardScaler\n",
    "from sklearn.metrics import accuracy_score\n",
    "\n",
    "# Initialize the individual models, including the optimized RandomForest\n",
    "lr = LogisticRegression()\n",
    "svc = svm.SVC()\n",
    "knn = KNeighborsClassifier()\n",
    "rf_optimal = RandomForestClassifier(n_estimators=100, max_depth=30)\n",
    "gr = GradientBoostingClassifier()\n",
    "\n",
    "# Create the VotingClassifier ensemble\n",
    "ensemble = VotingClassifier(estimators=[\n",
    "    ('lr', lr), \n",
    "    ('svc', svc), \n",
    "    ('knn', knn), \n",
    "    ('rf', rf_optimal),  # Use optimized RandomForest\n",
    "    ('gr', gr)], voting='hard')\n",
    "\n",
    "# Fit and evaluate the ensemble\n",
    "ensemble.fit(X_train, y_train)\n",
    "y_pred_ensemble = ensemble.predict(X_test)\n",
    "\n",
    "scores = cross_val_score(ensemble, X_train, y_train, cv=5, scoring='accuracy')\n",
    "\n",
    "# Evaluate ensemble performance\n",
    "accuracy_ensemble = accuracy_score(y_test, y_pred_ensemble)\n",
    "print(f'Ensemble Accuracy: {accuracy_ensemble}\\n\\n\\n')\n",
    "\n"
   ]
  },
  {
   "cell_type": "code",
   "execution_count": null,
   "id": "aa295338",
   "metadata": {},
   "outputs": [],
   "source": []
  },
  {
   "cell_type": "code",
   "execution_count": null,
   "id": "79d9c100",
   "metadata": {},
   "outputs": [],
   "source": []
  },
  {
   "cell_type": "code",
   "execution_count": 59,
   "id": "6e94ac9c",
   "metadata": {},
   "outputs": [
    {
     "name": "stdout",
     "output_type": "stream",
     "text": [
      "Cross-validation scores: [0.564375 0.544375 0.520625 0.53     0.558125]\n",
      "Average cross-validation score: 0.5435\n"
     ]
    }
   ],
   "source": [
    "print(f'Cross-validation scores: {scores}')\n",
    "print(f'Average cross-validation score: {scores.mean()}')\n"
   ]
  },
  {
   "cell_type": "code",
   "execution_count": 62,
   "id": "41877ad5",
   "metadata": {},
   "outputs": [
    {
     "name": "stdout",
     "output_type": "stream",
     "text": [
      "Classification Report for Ensemble Model:\n",
      "\n",
      "              precision    recall  f1-score   support\n",
      "\n",
      "           0       0.55      0.55      0.55      1049\n",
      "           1       0.50      0.50      0.50       951\n",
      "\n",
      "    accuracy                           0.53      2000\n",
      "   macro avg       0.53      0.53      0.53      2000\n",
      "weighted avg       0.53      0.53      0.53      2000\n",
      "\n",
      "Ensemble Accuracy: 0.529\n",
      "\n"
     ]
    }
   ],
   "source": [
    "from sklearn.metrics import classification_report, accuracy_score\n",
    "\n",
    "# After fitting the ensemble model and making predictions\n",
    "ensemble.fit(X_train, y_train)\n",
    "y_pred_ensemble = ensemble.predict(X_test)\n",
    "\n",
    "# Print the classification report\n",
    "print(\"Classification Report for Ensemble Model:\\n\")\n",
    "print(classification_report(y_test, y_pred_ensemble))\n",
    "\n",
    "# Also print the accuracy for completeness\n",
    "accuracy_ensemble = accuracy_score(y_test, y_pred_ensemble)\n",
    "print(f\"Ensemble Accuracy: {accuracy_ensemble}\\n\")\n"
   ]
  },
  {
   "cell_type": "code",
   "execution_count": null,
   "id": "477f0823",
   "metadata": {},
   "outputs": [],
   "source": []
  },
  {
   "cell_type": "code",
   "execution_count": 47,
   "id": "ae518778",
   "metadata": {},
   "outputs": [
    {
     "name": "stdout",
     "output_type": "stream",
     "text": [
      "Best parameters: {'rf__max_depth': 30, 'rf__n_estimators': 100}\n",
      "Best cross-validated accuracy: 0.548625\n"
     ]
    }
   ],
   "source": [
    "from sklearn.model_selection import GridSearchCV\n",
    "\n",
    "# Define hyperparameter grid for RandomForest\n",
    "param_grid = {\n",
    "    'rf__n_estimators': [50, 100, 200],\n",
    "    'rf__max_depth': [10, 20, 30]\n",
    "}\n",
    "\n",
    "# Perform GridSearch with Cross-Validation\n",
    "grid_search = GridSearchCV(ensemble, param_grid, cv=5, scoring='accuracy')\n",
    "grid_search.fit(X_train, y_train)\n",
    "\n",
    "print(\"Best parameters:\", grid_search.best_params_)\n",
    "print(\"Best cross-validated accuracy:\", grid_search.best_score_)\n"
   ]
  },
  {
   "cell_type": "code",
   "execution_count": null,
   "id": "9645d534",
   "metadata": {},
   "outputs": [],
   "source": []
  },
  {
   "cell_type": "code",
   "execution_count": 60,
   "id": "15d3ef2e",
   "metadata": {},
   "outputs": [
    {
     "data": {
      "image/png": "[encoded data removed]",
      "text/plain": [
       "<Figure size 640x480 with 2 Axes>"
      ]
     },
     "metadata": {},
     "output_type": "display_data"
    },
    {
     "name": "stdout",
     "output_type": "stream",
     "text": [
      "Confusion Matrix:\n",
      "[[583 466]\n",
      " [477 474]]\n"
     ]
    }
   ],
   "source": [
    "from sklearn.metrics import confusion_matrix, ConfusionMatrixDisplay\n",
    "import matplotlib.pyplot as plt\n",
    "\n",
    "# Make predictions using your ensemble model\n",
    "y_pred_ensemble = ensemble.predict(X_test)\n",
    "\n",
    "# Generate the confusion matrix\n",
    "cm = confusion_matrix(y_test, y_pred_ensemble)\n",
    "\n",
    "# Display the confusion matrix\n",
    "disp = ConfusionMatrixDisplay(confusion_matrix=cm)\n",
    "disp.plot(cmap=plt.cm.Blues)\n",
    "plt.title('Confusion Matrix')\n",
    "plt.show()\n",
    "\n",
    "# Optional: Print the confusion matrix\n",
    "print(\"Confusion Matrix:\")\n",
    "print(cm)\n"
   ]
  },
  {
   "cell_type": "code",
   "execution_count": 61,
   "id": "afffcd62",
   "metadata": {},
   "outputs": [
    {
     "name": "stdout",
     "output_type": "stream",
     "text": [
      "Accuracy: 0.5285\n",
      "Precision: 0.5042553191489362\n",
      "Recall: 0.49842271293375395\n",
      "F1 Score: 0.5013220518244315\n"
     ]
    }
   ],
   "source": [
    "TP = cm[1, 1]\n",
    "TN = cm[0, 0]\n",
    "FP = cm[0, 1]\n",
    "FN = cm[1, 0]\n",
    "\n",
    "accuracy = (TP + TN) / (TP + TN + FP + FN)\n",
    "precision = TP / (TP + FP) if (TP + FP) > 0 else 0\n",
    "recall = TP / (TP + FN) if (TP + FN) > 0 else 0\n",
    "f1_score = 2 * (precision * recall) / (precision + recall) if (precision + recall) > 0 else 0\n",
    "\n",
    "print(f'Accuracy: {accuracy}')\n",
    "print(f'Precision: {precision}')\n",
    "print(f'Recall: {recall}')\n",
    "print(f'F1 Score: {f1_score}')\n"
   ]
  },
  {
   "cell_type": "code",
   "execution_count": null,
   "id": "f54941d1",
   "metadata": {},
   "outputs": [],
   "source": []
  },
  {
   "cell_type": "code",
   "execution_count": 63,
   "id": "09d37474",
   "metadata": {},
   "outputs": [
    {
     "data": {
      "text/plain": [
       "['scaler.joblib']"
      ]
     },
     "execution_count": 63,
     "metadata": {},
     "output_type": "execute_result"
    }
   ],
   "source": [
    "from sklearn.preprocessing import StandardScaler\n",
    "import joblib\n",
    "\n",
    "# Initialize the scaler\n",
    "sc = StandardScaler()\n",
    "\n",
    "# Fit and transform the training data\n",
    "X_train = sc.fit_transform(X_train)\n",
    "\n",
    "# Transform the test data\n",
    "X_test = sc.transform(X_test)\n",
    "\n",
    "# Save the scaler to a file\n",
    "joblib.dump(sc, 'scaler.joblib')\n",
    "\n"
   ]
  },
  {
   "cell_type": "code",
   "execution_count": null,
   "id": "1c21704b",
   "metadata": {},
   "outputs": [],
   "source": []
  },
  {
   "cell_type": "code",
   "execution_count": null,
   "id": "5d366e10",
   "metadata": {},
   "outputs": [],
   "source": []
  },
  {
   "cell_type": "code",
   "execution_count": 64,
   "id": "9bcd23a3",
   "metadata": {},
   "outputs": [
    {
     "data": {
      "text/plain": [
       "['voting_classifier_ensemble.joblib']"
      ]
     },
     "execution_count": 64,
     "metadata": {},
     "output_type": "execute_result"
    }
   ],
   "source": [
    "import joblib\n",
    "\n",
    "# Save the trained ensemble model\n",
    "joblib.dump(ensemble, 'voting_classifier_ensemble.joblib')"
   ]
  },
  {
   "cell_type": "code",
   "execution_count": null,
   "id": "0d4b73c2",
   "metadata": {},
   "outputs": [],
   "source": []
  },
  {
   "cell_type": "code",
   "execution_count": null,
   "id": "8cf361be",
   "metadata": {},
   "outputs": [],
   "source": []
  },
  {
   "cell_type": "code",
   "execution_count": null,
   "id": "e1130ebc",
   "metadata": {},
   "outputs": [],
   "source": []
  },
  {
   "cell_type": "code",
   "execution_count": 65,
   "id": "6da781ce",
   "metadata": {},
   "outputs": [
    {
     "name": "stdout",
     "output_type": "stream",
     "text": [
      "Loaded Ensemble Accuracy: 0.529\n"
     ]
    }
   ],
   "source": [
    "# Load the saved ensemble model\n",
    "ensemble_loaded = joblib.load('voting_classifier_ensemble.joblib')\n",
    "\n",
    "# Make predictions with the loaded ensemble\n",
    "y_pred_loaded = ensemble_loaded.predict(X_test)\n",
    "\n",
    "# Check if the accuracy is consistent\n",
    "accuracy_loaded = accuracy_score(y_test, y_pred_loaded)\n",
    "print(f'Loaded Ensemble Accuracy: {accuracy_loaded}')\n"
   ]
  },
  {
   "cell_type": "code",
   "execution_count": null,
   "id": "c81eec85",
   "metadata": {},
   "outputs": [],
   "source": []
  },
  {
   "cell_type": "code",
   "execution_count": null,
   "id": "3e766a57",
   "metadata": {},
   "outputs": [],
   "source": []
  },
  {
   "cell_type": "code",
   "execution_count": 74,
   "id": "b4727149",
   "metadata": {},
   "outputs": [
    {
     "name": "stdout",
     "output_type": "stream",
     "text": [
      "Running on local URL:  http://127.0.0.1:7865\n",
      "\n",
      "Could not create share link. Please check your internet connection or our status page: https://status.gradio.app.\n"
     ]
    },
    {
     "data": {
      "text/html": [
       "<div><iframe src=\"http://127.0.0.1:7865/\" width=\"100%\" height=\"500\" allow=\"autoplay; camera; microphone; clipboard-read; clipboard-write;\" frameborder=\"0\" allowfullscreen></iframe></div>"
      ],
      "text/plain": [
       "<IPython.core.display.HTML object>"
      ]
     },
     "metadata": {},
     "output_type": "display_data"
    },
    {
     "data": {
      "text/plain": []
     },
     "execution_count": 74,
     "metadata": {},
     "output_type": "execute_result"
    }
   ],
   "source": [
    "import gradio as gr\n",
    "import numpy as np\n",
    "import joblib\n",
    "\n",
    "# Load your trained model\n",
    "model = joblib.load('voting_classifier_ensemble.joblib')\n",
    "\n",
    "\n",
    "\n",
    "def predict_epilepsy(age, sex, heart_rate, systolic_bp, diastolic_bp, blood_oxygen_level):\n",
    "    # Convert sex and seizure history to numerical values\n",
    "    sex_numeric = 1 if sex == \"Male\" else 0\n",
    "    \n",
    "    \n",
    "    # Prepare input data\n",
    "    input_data = np.array([[age, sex_numeric, heart_rate, systolic_bp, diastolic_bp, blood_oxygen_level]])\n",
    "    prediction = model.predict(input_data)\n",
    "    \n",
    "    # Convert prediction to human-readable format\n",
    "    return \"Seizure Predicted\" if prediction[0] == 1 else \"No Seizure Predicted\"\n",
    "\n",
    "# Create Gradio interface\n",
    "iface = gr.Interface(\n",
    "    fn=predict_epilepsy,\n",
    "    inputs=[\n",
    "        gr.Number(label=\"Age\"),\n",
    "        gr.Radio(label=\"Sex\", choices=[\"Male\", \"Female\"]),\n",
    "        gr.Number(label=\"Heart Rate\"),\n",
    "        gr.Number(label=\"Systolic BP\"),\n",
    "        gr.Number(label=\"Diastolic BP\"),\n",
    "        gr.Number(label=\"Blood Oxygen Level\"),\n",
    "       \n",
    "    ],\n",
    "    outputs=\"text\",\n",
    "    title=\"Epilepsy Prediction Model\",\n",
    "    description=\"Input the patient's details to predict seizure occurrence.\"\n",
    ")\n",
    "\n",
    "# Launch the app\n",
    "iface.launch(share=True)\n",
    "#21\t0\t82.027589\t153.477815\t106.262766\t96.015991\t0\n",
    "\n"
   ]
  },
  {
   "cell_type": "code",
   "execution_count": 81,
   "id": "4cff8e54",
   "metadata": {},
   "outputs": [
    {
     "name": "stdout",
     "output_type": "stream",
     "text": [
      "Prediction (0 = no seizure, 1 = seizure): 1\n"
     ]
    }
   ],
   "source": [
    "# Fit the ensemble on training data\n",
    "ensemble.fit(X_train, y_train)\n",
    "\n",
    "# Prepare the input data\n",
    "input_data = np.array([21, 0, 82.027589, 153.477815, 106.262766, 96.01599]).reshape(1, -1)  # Reshape for a single sample\n",
    "\n",
    "# Scale the input data\n",
    "input_data_scaled = sc.transform(input_data)\n",
    "\n",
    "# Make a prediction\n",
    "prediction = ensemble.predict(input_data_scaled)\n",
    "\n",
    "# Output the prediction\n",
    "print(f\"Prediction (0 = no seizure, 1 = seizure): {prediction[0]}\")\n"
   ]
  },
  {
   "cell_type": "code",
   "execution_count": 82,
   "id": "11616f83",
   "metadata": {},
   "outputs": [
    {
     "name": "stdout",
     "output_type": "stream",
     "text": [
      "Input 1: Prediction (0 = no seizure, 1 = seizure): 0\n",
      "Input 2: Prediction (0 = no seizure, 1 = seizure): 1\n",
      "Input 3: Prediction (0 = no seizure, 1 = seizure): 1\n",
      "Input 4: Prediction (0 = no seizure, 1 = seizure): 1\n",
      "Input 5: Prediction (0 = no seizure, 1 = seizure): 0\n",
      "Input 6: Prediction (0 = no seizure, 1 = seizure): 0\n",
      "Input 7: Prediction (0 = no seizure, 1 = seizure): 0\n",
      "Input 8: Prediction (0 = no seizure, 1 = seizure): 0\n",
      "Input 9: Prediction (0 = no seizure, 1 = seizure): 0\n",
      "Input 10: Prediction (0 = no seizure, 1 = seizure): 1\n",
      "Input 11: Prediction (0 = no seizure, 1 = seizure): 0\n",
      "Input 12: Prediction (0 = no seizure, 1 = seizure): 0\n",
      "Input 13: Prediction (0 = no seizure, 1 = seizure): 1\n",
      "Input 14: Prediction (0 = no seizure, 1 = seizure): 1\n",
      "Input 15: Prediction (0 = no seizure, 1 = seizure): 0\n",
      "Input 16: Prediction (0 = no seizure, 1 = seizure): 1\n",
      "Input 17: Prediction (0 = no seizure, 1 = seizure): 0\n",
      "Input 18: Prediction (0 = no seizure, 1 = seizure): 1\n",
      "Input 19: Prediction (0 = no seizure, 1 = seizure): 0\n",
      "Input 20: Prediction (0 = no seizure, 1 = seizure): 0\n",
      "Input 21: Prediction (0 = no seizure, 1 = seizure): 0\n",
      "Input 22: Prediction (0 = no seizure, 1 = seizure): 1\n",
      "Input 23: Prediction (0 = no seizure, 1 = seizure): 0\n",
      "Input 24: Prediction (0 = no seizure, 1 = seizure): 0\n",
      "Input 25: Prediction (0 = no seizure, 1 = seizure): 0\n",
      "Input 26: Prediction (0 = no seizure, 1 = seizure): 1\n",
      "Input 27: Prediction (0 = no seizure, 1 = seizure): 0\n",
      "Input 28: Prediction (0 = no seizure, 1 = seizure): 1\n",
      "Input 29: Prediction (0 = no seizure, 1 = seizure): 0\n",
      "Input 30: Prediction (0 = no seizure, 1 = seizure): 0\n",
      "Input 31: Prediction (0 = no seizure, 1 = seizure): 1\n",
      "Input 32: Prediction (0 = no seizure, 1 = seizure): 0\n",
      "Input 33: Prediction (0 = no seizure, 1 = seizure): 0\n",
      "Input 34: Prediction (0 = no seizure, 1 = seizure): 0\n",
      "Input 35: Prediction (0 = no seizure, 1 = seizure): 0\n",
      "Input 36: Prediction (0 = no seizure, 1 = seizure): 0\n",
      "Input 37: Prediction (0 = no seizure, 1 = seizure): 0\n",
      "Input 38: Prediction (0 = no seizure, 1 = seizure): 0\n",
      "Input 39: Prediction (0 = no seizure, 1 = seizure): 0\n",
      "Input 40: Prediction (0 = no seizure, 1 = seizure): 0\n",
      "Input 41: Prediction (0 = no seizure, 1 = seizure): 0\n",
      "Input 42: Prediction (0 = no seizure, 1 = seizure): 1\n",
      "Input 43: Prediction (0 = no seizure, 1 = seizure): 0\n",
      "Input 44: Prediction (0 = no seizure, 1 = seizure): 0\n",
      "Input 45: Prediction (0 = no seizure, 1 = seizure): 0\n",
      "Input 46: Prediction (0 = no seizure, 1 = seizure): 0\n",
      "Input 47: Prediction (0 = no seizure, 1 = seizure): 0\n",
      "Input 48: Prediction (0 = no seizure, 1 = seizure): 0\n",
      "Input 49: Prediction (0 = no seizure, 1 = seizure): 0\n",
      "Input 50: Prediction (0 = no seizure, 1 = seizure): 0\n"
     ]
    }
   ],
   "source": [
    "import numpy as np\n",
    "\n",
    "# Assuming 'ensemble' is already fitted and 'sc' is the StandardScaler instance\n",
    "# Generate or define 50 test inputs\n",
    "# For this example, let's create random inputs. Adjust these values as needed for your use case.\n",
    "\n",
    "# Example: Generating 50 random inputs, with 6 features each (adjust according to your actual feature set)\n",
    "# You should replace this with your actual input data if you have specific values to test\n",
    "num_samples = 50\n",
    "# Example: Random values for the features (replace this with your own test data)\n",
    "input_data = np.random.rand(num_samples, 6) * 100  # Random values scaled between 0 and 100\n",
    "\n",
    "# Scale the input data\n",
    "input_data_scaled = sc.transform(input_data)\n",
    "\n",
    "# Make predictions for the batch of inputs\n",
    "predictions = ensemble.predict(input_data_scaled)\n",
    "\n",
    "# Output the predictions\n",
    "for i, prediction in enumerate(predictions):\n",
    "    print(f\"Input {i+1}: Prediction (0 = no seizure, 1 = seizure): {prediction}\")\n"
   ]
  },
  {
   "cell_type": "code",
   "execution_count": null,
   "id": "847f4f47",
   "metadata": {},
   "outputs": [],
   "source": []
  },
  {
   "cell_type": "code",
   "execution_count": null,
   "id": "7c144054",
   "metadata": {},
   "outputs": [],
   "source": []
  },
  {
   "cell_type": "code",
   "execution_count": null,
   "id": "cd562193",
   "metadata": {},
   "outputs": [],
   "source": []
  },
  {
   "cell_type": "code",
   "execution_count": null,
   "id": "04368d00",
   "metadata": {},
   "outputs": [],
   "source": []
  },
  {
   "cell_type": "code",
   "execution_count": null,
   "id": "887e31a3",
   "metadata": {},
   "outputs": [],
   "source": []
  },
  {
   "cell_type": "code",
   "execution_count": null,
   "id": "6a167ca0",
   "metadata": {},
   "outputs": [],
   "source": []
  },
  {
   "cell_type": "code",
   "execution_count": null,
   "id": "2f708247",
   "metadata": {},
   "outputs": [],
   "source": []
  },
  {
   "cell_type": "code",
   "execution_count": null,
   "id": "d6709694",
   "metadata": {},
   "outputs": [],
   "source": []
  },
  {
   "cell_type": "code",
   "execution_count": null,
   "id": "7bdaea45-8cfe-4135-ada8-ea29861f91bb",
   "metadata": {},
   "outputs": [],
   "source": []
  },
  {
   "cell_type": "code",
   "execution_count": null,
   "id": "cf3bc2a5-4900-4ca6-812d-6f0a398078c8",
   "metadata": {},
   "outputs": [],
   "source": []
  }
 ],
 "metadata": {
  "kernelspec": {
   "display_name": "Python 3 (ipykernel)",
   "language": "python",
   "name": "python3"
  },
  "language_info": {
   "codemirror_mode": {
    "name": "ipython",
    "version": 3
   },
   "file_extension": ".py",
   "mimetype": "text/x-python",
   "name": "python",
   "nbconvert_exporter": "python",
   "pygments_lexer": "ipython3",
   "version": "3.11.0"
  }
 },
 "nbformat": 4,
 "nbformat_minor": 5
}
