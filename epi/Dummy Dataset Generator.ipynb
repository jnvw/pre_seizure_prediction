{
 "cells": [
  {
   "cell_type": "code",
   "execution_count": 3,
   "id": "b6b9a28f-2c29-4325-ac80-8b1625733d7d",
   "metadata": {},
   "outputs": [
    {
     "name": "stdout",
     "output_type": "stream",
     "text": [
      "Dataset saved as 'epilepsy_prediction_dataset.csv'\n"
     ]
    }
   ],
   "source": [
    "import numpy as np\n",
    "import pandas as pd\n",
    "\n",
    "# Set random seed for reproducibility\n",
    "np.random.seed(42)\n",
    "\n",
    "# Number of samples to generate\n",
    "num_samples = 10000\n",
    "\n",
    "# Generate random data for the dataset\n",
    "data = {\n",
    "    'age': np.random.randint(1, 90, size=num_samples),\n",
    "    'sex': np.random.randint(0, 2, size=num_samples),\n",
    "    'heart_rate': np.random.uniform(60, 180, size=num_samples),\n",
    "    'systolic_bp': np.random.uniform(90, 180, size=num_samples),\n",
    "    'diastolic_bp': np.random.uniform(60, 120, size=num_samples),\n",
    "    'blood_oxygen_level': np.random.uniform(85, 100, size=num_samples),\n",
    "    'seizure_history': np.random.randint(0, 2, size=num_samples),\n",
    "}\n",
    "\n",
    "# Generate the target variable (epileptic_seizure)\n",
    "# More realistic logic for seizure prediction:\n",
    "# If heart rate > 100, systolic BP > 120, or blood oxygen < 92%, the risk is higher.\n",
    "data['epileptic_seizure'] = np.where(\n",
    "    (\n",
    "        (data['heart_rate'] > 100) | \n",
    "        (data['systolic_bp'] > 120) | \n",
    "        (data['blood_oxygen_level'] < 92)\n",
    "    ) & (data['seizure_history'] == 1), 1, 0\n",
    ")\n",
    "\n",
    "# Create DataFrame\n",
    "df = pd.DataFrame(data)\n",
    "\n",
    "# Save the dataset to a CSV file\n",
    "df.to_csv('epilepsy_prediction_dataset.csv', index=False)\n",
    "\n",
    "print(\"Dataset saved as 'epilepsy_prediction_dataset.csv'\")\n"
   ]
  },
  {
   "cell_type": "code",
   "execution_count": null,
   "id": "29b5e4fb-a747-4f46-a8e6-aa914bce2f95",
   "metadata": {},
   "outputs": [],
   "source": []
  }
 ],
 "metadata": {
  "kernelspec": {
   "display_name": "Python 3 (ipykernel)",
   "language": "python",
   "name": "python3"
  },
  "language_info": {
   "codemirror_mode": {
    "name": "ipython",
    "version": 3
   },
   "file_extension": ".py",
   "mimetype": "text/x-python",
   "name": "python",
   "nbconvert_exporter": "python",
   "pygments_lexer": "ipython3",
   "version": "3.11.4"
  }
 },
 "nbformat": 4,
 "nbformat_minor": 5
}
